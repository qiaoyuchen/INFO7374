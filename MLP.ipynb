{
  "nbformat": 4,
  "nbformat_minor": 0,
  "metadata": {
    "colab": {
      "name": "MLP.ipynb",
      "version": "0.3.2",
      "provenance": []
    },
    "kernelspec": {
      "name": "python3",
      "display_name": "Python 3"
    },
    "accelerator": "GPU"
  },
  "cells": [
    {
      "metadata": {
        "id": "pnSfp51AUKTi",
        "colab_type": "code",
        "colab": {
          "base_uri": "https://localhost:8080/",
          "height": 35
        },
        "outputId": "2f31e4af-28a8-4499-ca88-8a8d330c7912"
      },
      "cell_type": "code",
      "source": [
        "from __future__ import print_function\n",
        "\n",
        "import keras\n",
        "from keras.datasets import cifar10\n",
        "from keras.models import Sequential\n",
        "from keras.layers import Dense, Dropout\n",
        "from keras.optimizers import RMSprop,SGD\n",
        "from keras.callbacks import EarlyStopping\n",
        "import matplotlib.pyplot as plt "
      ],
      "execution_count": 1,
      "outputs": [
        {
          "output_type": "stream",
          "text": [
            "Using TensorFlow backend.\n"
          ],
          "name": "stderr"
        }
      ]
    },
    {
      "metadata": {
        "id": "KuTTscCGUYBR",
        "colab_type": "code",
        "colab": {}
      },
      "cell_type": "code",
      "source": [
        "batch_size = 128\n",
        "num_classes = 10\n",
        "epochs = 100\n",
        "learning_rate = 0.001\n",
        "dropout_rate = 0.5\n",
        "lr_decay = 0.002"
      ],
      "execution_count": 0,
      "outputs": []
    },
    {
      "metadata": {
        "id": "U6H3EUWiUY5q",
        "colab_type": "code",
        "colab": {
          "base_uri": "https://localhost:8080/",
          "height": 53
        },
        "outputId": "87000183-a0a9-4f03-ad4e-8cdc6b615e65"
      },
      "cell_type": "code",
      "source": [
        "# the data, split between train and test sets\n",
        "(x_train, y_train), (x_test, y_test) = cifar10.load_data()\n",
        "\n",
        "x_train = x_train.reshape(50000, 3072)\n",
        "x_test = x_test.reshape(10000, 3072)\n",
        "x_train = x_train.astype('float32')\n",
        "x_test = x_test.astype('float32')\n",
        "## normalization\n",
        "x_train /= 255\n",
        "x_test /= 255\n",
        "print(x_train.shape[0], 'train samples')\n",
        "print(x_test.shape[0], 'test samples')\n",
        "\n",
        "# convert class vectors to binary class matrices\n",
        "y_train = keras.utils.to_categorical(y_train, num_classes)\n",
        "y_test = keras.utils.to_categorical(y_test, num_classes)"
      ],
      "execution_count": 3,
      "outputs": [
        {
          "output_type": "stream",
          "text": [
            "50000 train samples\n",
            "10000 test samples\n"
          ],
          "name": "stdout"
        }
      ]
    },
    {
      "metadata": {
        "id": "C0OW0VUBUbsB",
        "colab_type": "code",
        "colab": {
          "base_uri": "https://localhost:8080/",
          "height": 467
        },
        "outputId": "12fc3f62-943b-4687-d9f2-bfb90d535ccd"
      },
      "cell_type": "code",
      "source": [
        "model = Sequential()\n",
        "model.add(Dense(2048, activation='relu', input_shape=(3072,)))\n",
        "model.add(Dropout(0.3))\n",
        "model.add(Dense(1024, activation='relu'))\n",
        "model.add(Dense(512, activation='relu'))\n",
        "model.add(Dropout(0.3))\n",
        "model.add(Dense(256, activation='relu'))\n",
        "model.add(Dropout(0.3))\n",
        "model.add(Dense(128, activation='relu'))\n",
        "model.add(Dense(num_classes, activation='softmax'))\n",
        "\n",
        "model.summary()"
      ],
      "execution_count": 4,
      "outputs": [
        {
          "output_type": "stream",
          "text": [
            "_________________________________________________________________\n",
            "Layer (type)                 Output Shape              Param #   \n",
            "=================================================================\n",
            "dense_1 (Dense)              (None, 2048)              6293504   \n",
            "_________________________________________________________________\n",
            "dropout_1 (Dropout)          (None, 2048)              0         \n",
            "_________________________________________________________________\n",
            "dense_2 (Dense)              (None, 1024)              2098176   \n",
            "_________________________________________________________________\n",
            "dense_3 (Dense)              (None, 512)               524800    \n",
            "_________________________________________________________________\n",
            "dropout_2 (Dropout)          (None, 512)               0         \n",
            "_________________________________________________________________\n",
            "dense_4 (Dense)              (None, 256)               131328    \n",
            "_________________________________________________________________\n",
            "dropout_3 (Dropout)          (None, 256)               0         \n",
            "_________________________________________________________________\n",
            "dense_5 (Dense)              (None, 128)               32896     \n",
            "_________________________________________________________________\n",
            "dense_6 (Dense)              (None, 10)                1290      \n",
            "=================================================================\n",
            "Total params: 9,081,994\n",
            "Trainable params: 9,081,994\n",
            "Non-trainable params: 0\n",
            "_________________________________________________________________\n"
          ],
          "name": "stdout"
        }
      ]
    },
    {
      "metadata": {
        "id": "m-rR9tJbUwiU",
        "colab_type": "code",
        "colab": {}
      },
      "cell_type": "code",
      "source": [
        ""
      ],
      "execution_count": 0,
      "outputs": []
    },
    {
      "metadata": {
        "id": "uHnVeKfKU1vA",
        "colab_type": "code",
        "colab": {}
      },
      "cell_type": "code",
      "source": [
        "model.compile(loss='categorical_crossentropy',\n",
        "              optimizer=SGD(momentum=0.9),\n",
        "              metrics=['accuracy'])\n",
        "\n",
        "early_stopping = EarlyStopping(monitor='loss', min_delta=-0.05, patience=0, verbose=0,\n",
        "                             mode='auto')\n",
        "call_backs = []\n",
        "call_backs.append(early_stopping)"
      ],
      "execution_count": 0,
      "outputs": []
    },
    {
      "metadata": {
        "id": "Z_YTgH0hU-Cy",
        "colab_type": "code",
        "colab": {
          "base_uri": "https://localhost:8080/",
          "height": 3671
        },
        "outputId": "af3b0a6f-3561-4140-be0a-f47dbcd08a0f"
      },
      "cell_type": "code",
      "source": [
        "history = model.fit(x_train, y_train,\n",
        "                    batch_size=batch_size,\n",
        "                    epochs=epochs,\n",
        "                    verbose=1,\n",
        "                    validation_split=0.2,\n",
        "                    callbacks=call_backs)\n",
        "score = model.evaluate(x_test, y_test, verbose=0)\n",
        "print('Test loss:', score[0])\n",
        "print('Test accuracy:', score[1])"
      ],
      "execution_count": 6,
      "outputs": [
        {
          "output_type": "stream",
          "text": [
            "Train on 40000 samples, validate on 10000 samples\n",
            "Epoch 1/100\n",
            "40000/40000 [==============================] - 5s 127us/step - loss: 2.0302 - acc: 0.2466 - val_loss: 1.8316 - val_acc: 0.3441\n",
            "Epoch 2/100\n",
            "40000/40000 [==============================] - 4s 97us/step - loss: 1.8348 - acc: 0.3316 - val_loss: 1.7374 - val_acc: 0.3858\n",
            "Epoch 3/100\n",
            "40000/40000 [==============================] - 4s 96us/step - loss: 1.7661 - acc: 0.3605 - val_loss: 1.6819 - val_acc: 0.3941\n",
            "Epoch 4/100\n",
            "40000/40000 [==============================] - 4s 97us/step - loss: 1.7108 - acc: 0.3836 - val_loss: 1.6820 - val_acc: 0.4016\n",
            "Epoch 5/100\n",
            "40000/40000 [==============================] - 4s 97us/step - loss: 1.6827 - acc: 0.3957 - val_loss: 1.6477 - val_acc: 0.4053\n",
            "Epoch 6/100\n",
            "40000/40000 [==============================] - 4s 97us/step - loss: 1.6515 - acc: 0.4050 - val_loss: 1.6137 - val_acc: 0.4174\n",
            "Epoch 7/100\n",
            "40000/40000 [==============================] - 4s 96us/step - loss: 1.6182 - acc: 0.4167 - val_loss: 1.5949 - val_acc: 0.4266\n",
            "Epoch 8/100\n",
            "40000/40000 [==============================] - 4s 97us/step - loss: 1.6007 - acc: 0.4251 - val_loss: 1.5686 - val_acc: 0.4431\n",
            "Epoch 9/100\n",
            "40000/40000 [==============================] - 4s 97us/step - loss: 1.5808 - acc: 0.4329 - val_loss: 1.5660 - val_acc: 0.4420\n",
            "Epoch 10/100\n",
            "40000/40000 [==============================] - 4s 97us/step - loss: 1.5649 - acc: 0.4371 - val_loss: 1.5696 - val_acc: 0.4431\n",
            "Epoch 11/100\n",
            "40000/40000 [==============================] - 4s 97us/step - loss: 1.5406 - acc: 0.4428 - val_loss: 1.5213 - val_acc: 0.4505\n",
            "Epoch 12/100\n",
            "40000/40000 [==============================] - 4s 96us/step - loss: 1.5392 - acc: 0.4459 - val_loss: 1.4964 - val_acc: 0.4642\n",
            "Epoch 13/100\n",
            "40000/40000 [==============================] - 4s 96us/step - loss: 1.5141 - acc: 0.4535 - val_loss: 1.4837 - val_acc: 0.4697\n",
            "Epoch 14/100\n",
            "40000/40000 [==============================] - 4s 96us/step - loss: 1.4945 - acc: 0.4610 - val_loss: 1.5522 - val_acc: 0.4501\n",
            "Epoch 15/100\n",
            "40000/40000 [==============================] - 4s 97us/step - loss: 1.4788 - acc: 0.4663 - val_loss: 1.4916 - val_acc: 0.4627\n",
            "Epoch 16/100\n",
            "40000/40000 [==============================] - 4s 97us/step - loss: 1.4685 - acc: 0.4688 - val_loss: 1.4501 - val_acc: 0.4873\n",
            "Epoch 17/100\n",
            "40000/40000 [==============================] - 4s 97us/step - loss: 1.4435 - acc: 0.4789 - val_loss: 1.4606 - val_acc: 0.4812\n",
            "Epoch 18/100\n",
            "40000/40000 [==============================] - 4s 96us/step - loss: 1.4299 - acc: 0.4860 - val_loss: 1.4433 - val_acc: 0.4805\n",
            "Epoch 19/100\n",
            "40000/40000 [==============================] - 4s 96us/step - loss: 1.4143 - acc: 0.4903 - val_loss: 1.4379 - val_acc: 0.4902\n",
            "Epoch 20/100\n",
            "40000/40000 [==============================] - 4s 97us/step - loss: 1.4079 - acc: 0.4948 - val_loss: 1.4239 - val_acc: 0.4912\n",
            "Epoch 21/100\n",
            "40000/40000 [==============================] - 4s 97us/step - loss: 1.3920 - acc: 0.4999 - val_loss: 1.4221 - val_acc: 0.4955\n",
            "Epoch 22/100\n",
            "40000/40000 [==============================] - 4s 97us/step - loss: 1.3713 - acc: 0.5067 - val_loss: 1.4236 - val_acc: 0.4941\n",
            "Epoch 23/100\n",
            "40000/40000 [==============================] - 4s 98us/step - loss: 1.3680 - acc: 0.5082 - val_loss: 1.4117 - val_acc: 0.5005\n",
            "Epoch 24/100\n",
            "40000/40000 [==============================] - 4s 97us/step - loss: 1.3541 - acc: 0.5143 - val_loss: 1.4186 - val_acc: 0.4937\n",
            "Epoch 25/100\n",
            "40000/40000 [==============================] - 4s 96us/step - loss: 1.3406 - acc: 0.5163 - val_loss: 1.4163 - val_acc: 0.5023\n",
            "Epoch 26/100\n",
            "40000/40000 [==============================] - 4s 97us/step - loss: 1.3279 - acc: 0.5250 - val_loss: 1.3864 - val_acc: 0.5082\n",
            "Epoch 27/100\n",
            "40000/40000 [==============================] - 4s 96us/step - loss: 1.3181 - acc: 0.5247 - val_loss: 1.4008 - val_acc: 0.5136\n",
            "Epoch 28/100\n",
            "40000/40000 [==============================] - 4s 97us/step - loss: 1.3022 - acc: 0.5352 - val_loss: 1.3943 - val_acc: 0.5108\n",
            "Epoch 29/100\n",
            "40000/40000 [==============================] - 4s 98us/step - loss: 1.2969 - acc: 0.5331 - val_loss: 1.3891 - val_acc: 0.5137\n",
            "Epoch 30/100\n",
            "40000/40000 [==============================] - 4s 100us/step - loss: 1.2920 - acc: 0.5349 - val_loss: 1.3861 - val_acc: 0.5176\n",
            "Epoch 31/100\n",
            "40000/40000 [==============================] - 4s 100us/step - loss: 1.2708 - acc: 0.5442 - val_loss: 1.3793 - val_acc: 0.5129\n",
            "Epoch 32/100\n",
            "40000/40000 [==============================] - 4s 96us/step - loss: 1.2581 - acc: 0.5464 - val_loss: 1.3405 - val_acc: 0.5293\n",
            "Epoch 33/100\n",
            "40000/40000 [==============================] - 4s 96us/step - loss: 1.2453 - acc: 0.5550 - val_loss: 1.3529 - val_acc: 0.5237\n",
            "Epoch 34/100\n",
            "40000/40000 [==============================] - 4s 96us/step - loss: 1.2372 - acc: 0.5572 - val_loss: 1.3794 - val_acc: 0.5140\n",
            "Epoch 35/100\n",
            "40000/40000 [==============================] - 4s 96us/step - loss: 1.2272 - acc: 0.5592 - val_loss: 1.3694 - val_acc: 0.5257\n",
            "Epoch 36/100\n",
            "40000/40000 [==============================] - 4s 96us/step - loss: 1.2138 - acc: 0.5628 - val_loss: 1.3557 - val_acc: 0.5240\n",
            "Epoch 37/100\n",
            "40000/40000 [==============================] - 4s 96us/step - loss: 1.2023 - acc: 0.5683 - val_loss: 1.3638 - val_acc: 0.5287\n",
            "Epoch 38/100\n",
            "40000/40000 [==============================] - 4s 96us/step - loss: 1.1911 - acc: 0.5681 - val_loss: 1.3502 - val_acc: 0.5290\n",
            "Epoch 39/100\n",
            "40000/40000 [==============================] - 4s 97us/step - loss: 1.1762 - acc: 0.5750 - val_loss: 1.3485 - val_acc: 0.5265\n",
            "Epoch 40/100\n",
            "40000/40000 [==============================] - 4s 96us/step - loss: 1.1689 - acc: 0.5805 - val_loss: 1.3177 - val_acc: 0.5382\n",
            "Epoch 41/100\n",
            "40000/40000 [==============================] - 4s 96us/step - loss: 1.1550 - acc: 0.5848 - val_loss: 1.3862 - val_acc: 0.5236\n",
            "Epoch 42/100\n",
            "40000/40000 [==============================] - 4s 96us/step - loss: 1.1495 - acc: 0.5863 - val_loss: 1.3432 - val_acc: 0.5391\n",
            "Epoch 43/100\n",
            "40000/40000 [==============================] - 4s 96us/step - loss: 1.1368 - acc: 0.5922 - val_loss: 1.3413 - val_acc: 0.5386\n",
            "Epoch 44/100\n",
            "40000/40000 [==============================] - 4s 96us/step - loss: 1.1355 - acc: 0.5924 - val_loss: 1.3596 - val_acc: 0.5238\n",
            "Epoch 45/100\n",
            "40000/40000 [==============================] - 4s 96us/step - loss: 1.1237 - acc: 0.5983 - val_loss: 1.3530 - val_acc: 0.5325\n",
            "Epoch 46/100\n",
            "40000/40000 [==============================] - 4s 96us/step - loss: 1.1055 - acc: 0.6012 - val_loss: 1.3535 - val_acc: 0.5431\n",
            "Epoch 47/100\n",
            "40000/40000 [==============================] - 4s 97us/step - loss: 1.0917 - acc: 0.6083 - val_loss: 1.3481 - val_acc: 0.5375\n",
            "Epoch 48/100\n",
            "40000/40000 [==============================] - 4s 96us/step - loss: 1.0872 - acc: 0.6092 - val_loss: 1.3424 - val_acc: 0.5410\n",
            "Epoch 49/100\n",
            "40000/40000 [==============================] - 4s 96us/step - loss: 1.0720 - acc: 0.6153 - val_loss: 1.3217 - val_acc: 0.5485\n",
            "Epoch 50/100\n",
            "40000/40000 [==============================] - 4s 96us/step - loss: 1.0659 - acc: 0.6179 - val_loss: 1.3163 - val_acc: 0.5489\n",
            "Epoch 51/100\n",
            "40000/40000 [==============================] - 4s 97us/step - loss: 1.0548 - acc: 0.6200 - val_loss: 1.3263 - val_acc: 0.5457\n",
            "Epoch 52/100\n",
            "40000/40000 [==============================] - 4s 97us/step - loss: 1.0407 - acc: 0.6258 - val_loss: 1.3385 - val_acc: 0.5375\n",
            "Epoch 53/100\n",
            "40000/40000 [==============================] - 4s 98us/step - loss: 1.0329 - acc: 0.6271 - val_loss: 1.3523 - val_acc: 0.5458\n",
            "Epoch 54/100\n",
            "40000/40000 [==============================] - 4s 97us/step - loss: 1.0235 - acc: 0.6304 - val_loss: 1.3483 - val_acc: 0.5443\n",
            "Epoch 55/100\n",
            "40000/40000 [==============================] - 4s 96us/step - loss: 1.0129 - acc: 0.6341 - val_loss: 1.3452 - val_acc: 0.5447\n",
            "Epoch 56/100\n",
            "40000/40000 [==============================] - 4s 96us/step - loss: 0.9982 - acc: 0.6401 - val_loss: 1.3430 - val_acc: 0.5489\n",
            "Epoch 57/100\n",
            "40000/40000 [==============================] - 4s 95us/step - loss: 0.9921 - acc: 0.6424 - val_loss: 1.3545 - val_acc: 0.5493\n",
            "Epoch 58/100\n",
            "40000/40000 [==============================] - 4s 96us/step - loss: 0.9734 - acc: 0.6506 - val_loss: 1.3454 - val_acc: 0.5494\n",
            "Epoch 59/100\n",
            "40000/40000 [==============================] - 4s 95us/step - loss: 0.9698 - acc: 0.6497 - val_loss: 1.3404 - val_acc: 0.5542\n",
            "Epoch 60/100\n",
            "40000/40000 [==============================] - 4s 96us/step - loss: 0.9584 - acc: 0.6532 - val_loss: 1.3959 - val_acc: 0.5428\n",
            "Epoch 61/100\n",
            "40000/40000 [==============================] - 4s 96us/step - loss: 0.9537 - acc: 0.6562 - val_loss: 1.4029 - val_acc: 0.5349\n",
            "Epoch 62/100\n",
            "40000/40000 [==============================] - 4s 96us/step - loss: 0.9444 - acc: 0.6591 - val_loss: 1.3917 - val_acc: 0.5395\n",
            "Epoch 63/100\n",
            "40000/40000 [==============================] - 4s 95us/step - loss: 0.9305 - acc: 0.6652 - val_loss: 1.3948 - val_acc: 0.5433\n",
            "Epoch 64/100\n",
            "40000/40000 [==============================] - 4s 96us/step - loss: 0.9330 - acc: 0.6613 - val_loss: 1.3606 - val_acc: 0.5513\n",
            "Epoch 65/100\n",
            "40000/40000 [==============================] - 4s 95us/step - loss: 0.9208 - acc: 0.6687 - val_loss: 1.3909 - val_acc: 0.5423\n",
            "Epoch 66/100\n",
            "40000/40000 [==============================] - 4s 96us/step - loss: 0.9063 - acc: 0.6773 - val_loss: 1.3821 - val_acc: 0.5482\n",
            "Epoch 67/100\n",
            "40000/40000 [==============================] - 4s 98us/step - loss: 0.8960 - acc: 0.6766 - val_loss: 1.3755 - val_acc: 0.5486\n",
            "Epoch 68/100\n",
            "40000/40000 [==============================] - 4s 100us/step - loss: 0.8781 - acc: 0.6837 - val_loss: 1.3868 - val_acc: 0.5474\n",
            "Epoch 69/100\n",
            "40000/40000 [==============================] - 4s 96us/step - loss: 0.8806 - acc: 0.6825 - val_loss: 1.3821 - val_acc: 0.5544\n",
            "Epoch 70/100\n",
            "40000/40000 [==============================] - 4s 96us/step - loss: 0.8651 - acc: 0.6868 - val_loss: 1.3820 - val_acc: 0.5505\n",
            "Epoch 71/100\n",
            "40000/40000 [==============================] - 4s 96us/step - loss: 0.8540 - acc: 0.6923 - val_loss: 1.4141 - val_acc: 0.5485\n",
            "Epoch 72/100\n",
            "40000/40000 [==============================] - 4s 96us/step - loss: 0.8486 - acc: 0.6944 - val_loss: 1.4119 - val_acc: 0.5522\n",
            "Epoch 73/100\n",
            "40000/40000 [==============================] - 4s 96us/step - loss: 0.8355 - acc: 0.7005 - val_loss: 1.4285 - val_acc: 0.5504\n",
            "Epoch 74/100\n",
            "40000/40000 [==============================] - 4s 96us/step - loss: 0.8311 - acc: 0.7017 - val_loss: 1.4489 - val_acc: 0.5445\n",
            "Epoch 75/100\n",
            "40000/40000 [==============================] - 4s 96us/step - loss: 0.8216 - acc: 0.7069 - val_loss: 1.4279 - val_acc: 0.5518\n",
            "Epoch 76/100\n",
            "40000/40000 [==============================] - 4s 96us/step - loss: 0.8085 - acc: 0.7072 - val_loss: 1.4214 - val_acc: 0.5485\n",
            "Epoch 77/100\n",
            "40000/40000 [==============================] - 4s 96us/step - loss: 0.8032 - acc: 0.7103 - val_loss: 1.4540 - val_acc: 0.5455\n",
            "Epoch 78/100\n",
            "40000/40000 [==============================] - 4s 96us/step - loss: 0.7827 - acc: 0.7178 - val_loss: 1.4185 - val_acc: 0.5596\n",
            "Epoch 79/100\n",
            "40000/40000 [==============================] - 4s 97us/step - loss: 0.7720 - acc: 0.7224 - val_loss: 1.4582 - val_acc: 0.5551\n",
            "Epoch 80/100\n",
            "40000/40000 [==============================] - 4s 97us/step - loss: 0.7744 - acc: 0.7209 - val_loss: 1.4525 - val_acc: 0.5558\n",
            "Epoch 81/100\n",
            "40000/40000 [==============================] - 4s 97us/step - loss: 0.7627 - acc: 0.7256 - val_loss: 1.4884 - val_acc: 0.5477\n",
            "Epoch 82/100\n",
            "40000/40000 [==============================] - 4s 96us/step - loss: 0.7514 - acc: 0.7303 - val_loss: 1.4594 - val_acc: 0.5525\n",
            "Epoch 83/100\n",
            "40000/40000 [==============================] - 4s 96us/step - loss: 0.7480 - acc: 0.7282 - val_loss: 1.5094 - val_acc: 0.5518\n",
            "Epoch 84/100\n",
            "40000/40000 [==============================] - 4s 96us/step - loss: 0.7234 - acc: 0.7391 - val_loss: 1.4800 - val_acc: 0.5587\n",
            "Epoch 85/100\n",
            "40000/40000 [==============================] - 4s 97us/step - loss: 0.7293 - acc: 0.7393 - val_loss: 1.5348 - val_acc: 0.5410\n",
            "Epoch 86/100\n",
            "40000/40000 [==============================] - 4s 97us/step - loss: 0.7210 - acc: 0.7403 - val_loss: 1.4753 - val_acc: 0.5594\n",
            "Epoch 87/100\n",
            "40000/40000 [==============================] - 4s 97us/step - loss: 0.7056 - acc: 0.7465 - val_loss: 1.4936 - val_acc: 0.5549\n",
            "Epoch 88/100\n",
            "40000/40000 [==============================] - 4s 96us/step - loss: 0.7064 - acc: 0.7476 - val_loss: 1.5006 - val_acc: 0.5540\n",
            "Epoch 89/100\n",
            "40000/40000 [==============================] - 4s 96us/step - loss: 0.6921 - acc: 0.7509 - val_loss: 1.4861 - val_acc: 0.5619\n",
            "Epoch 90/100\n",
            "40000/40000 [==============================] - 4s 96us/step - loss: 0.6858 - acc: 0.7534 - val_loss: 1.5138 - val_acc: 0.5509\n",
            "Epoch 91/100\n",
            "40000/40000 [==============================] - 4s 96us/step - loss: 0.6792 - acc: 0.7558 - val_loss: 1.5431 - val_acc: 0.5523\n",
            "Epoch 92/100\n",
            "40000/40000 [==============================] - 4s 96us/step - loss: 0.6638 - acc: 0.7619 - val_loss: 1.4927 - val_acc: 0.5632\n",
            "Epoch 93/100\n",
            "40000/40000 [==============================] - 4s 97us/step - loss: 0.6582 - acc: 0.7630 - val_loss: 1.5382 - val_acc: 0.5594\n",
            "Epoch 94/100\n",
            "40000/40000 [==============================] - 4s 96us/step - loss: 0.6529 - acc: 0.7650 - val_loss: 1.5629 - val_acc: 0.5485\n",
            "Epoch 95/100\n",
            "40000/40000 [==============================] - 4s 97us/step - loss: 0.6378 - acc: 0.7741 - val_loss: 1.5852 - val_acc: 0.5531\n",
            "Epoch 96/100\n",
            "40000/40000 [==============================] - 4s 96us/step - loss: 0.6373 - acc: 0.7702 - val_loss: 1.5652 - val_acc: 0.5570\n",
            "Epoch 97/100\n",
            "40000/40000 [==============================] - 4s 97us/step - loss: 0.6341 - acc: 0.7726 - val_loss: 1.5300 - val_acc: 0.5571\n",
            "Epoch 98/100\n",
            "40000/40000 [==============================] - 4s 97us/step - loss: 0.6261 - acc: 0.7770 - val_loss: 1.5749 - val_acc: 0.5568\n",
            "Epoch 99/100\n",
            "40000/40000 [==============================] - 4s 98us/step - loss: 0.6098 - acc: 0.7806 - val_loss: 1.5766 - val_acc: 0.5566\n",
            "Epoch 100/100\n",
            "40000/40000 [==============================] - 4s 96us/step - loss: 0.6119 - acc: 0.7786 - val_loss: 1.5798 - val_acc: 0.5548\n",
            "Test loss: 1.5586158061981201\n",
            "Test accuracy: 0.5501\n"
          ],
          "name": "stdout"
        }
      ]
    },
    {
      "metadata": {
        "id": "LGXV6qmEWUfY",
        "colab_type": "code",
        "colab": {
          "base_uri": "https://localhost:8080/",
          "height": 735
        },
        "outputId": "09d3d30c-79ec-4bf2-ca73-b69919946148"
      },
      "cell_type": "code",
      "source": [
        "plt.plot(history.history['acc'])\n",
        "plt.plot(history.history['val_acc'])\n",
        "plt.title('model accuracy')\n",
        "plt.ylabel('accuracy')\n",
        "plt.xlabel('epoch')\n",
        "plt.legend(['train', 'test'], loc='upper left')\n",
        "plt.show()\n",
        "# summarize history for loss\n",
        "plt.plot(history.history['loss'])\n",
        "plt.plot(history.history['val_loss'])\n",
        "plt.title('model loss')\n",
        "plt.ylabel('loss')\n",
        "plt.xlabel('epoch')\n",
        "plt.legend(['train', 'test'], loc='upper left')\n",
        "plt.show()"
      ],
      "execution_count": 7,
      "outputs": [
        {
          "output_type": "display_data",
          "data": {
            "image/png": "[encoded data removed]",
            "text/plain": [
              "<Figure size 576x396 with 1 Axes>"
            ]
          },
          "metadata": {
            "tags": []
          }
        },
        {
          "output_type": "display_data",
          "data": {
            "image/png": "[encoded data removed]",
            "text/plain": [
              "<Figure size 576x396 with 1 Axes>"
            ]
          },
          "metadata": {
            "tags": []
          }
        }
      ]
    }
  ]
}