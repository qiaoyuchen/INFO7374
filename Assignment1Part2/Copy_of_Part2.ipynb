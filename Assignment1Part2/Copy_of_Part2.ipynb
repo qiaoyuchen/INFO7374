{
  "nbformat": 4,
  "nbformat_minor": 0,
  "metadata": {
    "colab": {
      "name": "Copy of Part2.ipynb",
      "version": "0.3.2",
      "provenance": []
    },
    "kernelspec": {
      "name": "python3",
      "display_name": "Python 3"
    },
    "accelerator": "GPU"
  },
  "cells": [
    {
      "metadata": {
        "id": "ldkVAkgbbEip",
        "colab_type": "code",
        "outputId": "2855e20b-ad37-4664-c71a-e10ca353345a",
        "colab": {
          "base_uri": "https://localhost:8080/",
          "height": 35
        }
      },
      "cell_type": "code",
      "source": [
        "# Large CNN model for the CIFAR-10 Dataset \n",
        "import numpy \n",
        "from keras.datasets import cifar10 \n",
        "from keras.models import Sequential \n",
        "from keras.layers import Dense \n",
        "from keras.layers import Dropout \n",
        "from keras.layers import Flatten \n",
        "from keras.constraints import maxnorm \n",
        "from keras.optimizers import SGD \n",
        "from keras.layers.convolutional import Conv2D \n",
        "from keras.layers.convolutional import MaxPooling2D \n",
        "from keras.utils import np_utils \n",
        "from keras import backend as K \n",
        "K.set_image_dim_ordering('th') \n",
        "import matplotlib.pyplot as plt"
      ],
      "execution_count": 0,
      "outputs": [
        {
          "output_type": "stream",
          "text": [
            "Using TensorFlow backend.\n"
          ],
          "name": "stderr"
        }
      ]
    },
    {
      "metadata": {
        "id": "6_WF18irbY9p",
        "colab_type": "code",
        "colab": {}
      },
      "cell_type": "code",
      "source": [
        "# fix random seed for reproducibility \n",
        "seed = 7 \n",
        "numpy.random.seed(seed) "
      ],
      "execution_count": 0,
      "outputs": []
    },
    {
      "metadata": {
        "id": "dhQlpSPzbmX1",
        "colab_type": "code",
        "colab": {}
      },
      "cell_type": "code",
      "source": [
        "# load data \n",
        "(X_train, y_train), (X_test, y_test) = cifar10.load_data() \n",
        "# normalize inputs from 0-255 to 0.0-1.0 \n",
        "X_train = X_train.astype('float32') \n",
        "X_test = X_test.astype('float32') \n",
        "X_train = X_train / 255.0 \n",
        "X_test = X_test / 255.0"
      ],
      "execution_count": 0,
      "outputs": []
    },
    {
      "metadata": {
        "id": "yv5tzRNBbw8j",
        "colab_type": "code",
        "colab": {}
      },
      "cell_type": "code",
      "source": [
        "# one hot encode outputs \n",
        "y_train = np_utils.to_categorical(y_train) \n",
        "y_test = np_utils.to_categorical(y_test) \n",
        "num_classes = y_test.shape[1] "
      ],
      "execution_count": 0,
      "outputs": []
    },
    {
      "metadata": {
        "id": "n9wo0XPAb5nH",
        "colab_type": "code",
        "colab": {}
      },
      "cell_type": "code",
      "source": [
        "# Create the model \n",
        "model = Sequential() \n",
        "model.add(Conv2D(32, (3, 3), input_shape=(3, 32, 32), activation='relu', padding='same')) \n",
        "model.add(Dropout(0.2)) \n",
        "model.add(Conv2D(32, (3, 3), activation='elu', padding='same')) \n",
        "model.add(MaxPooling2D(pool_size=(2, 2))) \n",
        "model.add(Conv2D(64, (3, 3), activation='elu', padding='same')) \n",
        "model.add(Dropout(0.2)) \n",
        "model.add(Conv2D(64, (3, 3), activation='elu', padding='same')) \n",
        "model.add(MaxPooling2D(pool_size=(2, 2))) \n",
        "model.add(Conv2D(128, (3, 3), activation='elu', padding='same')) \n",
        "model.add(Dropout(0.2)) \n",
        "model.add(Conv2D(128, (3, 3), activation='elu', padding='same')) \n",
        "model.add(MaxPooling2D(pool_size=(2, 2))) \n",
        "model.add(Flatten()) \n",
        "model.add(Dropout(0.2)) \n",
        "model.add(Dense(1024, activation='elu', kernel_constraint=maxnorm(3))) \n",
        "model.add(Dropout(0.2)) \n",
        "model.add(Dense(512, activation='elu', kernel_constraint=maxnorm(3))) \n",
        "model.add(Dropout(0.2)) \n",
        "model.add(Dense(num_classes, activation='softmax')) "
      ],
      "execution_count": 0,
      "outputs": []
    },
    {
      "metadata": {
        "id": "qCjVbV4Echo4",
        "colab_type": "code",
        "colab": {}
      },
      "cell_type": "code",
      "source": [
        "# Compile model e\n",
        "epochs = 30\n",
        "lrate = 0.01"
      ],
      "execution_count": 0,
      "outputs": []
    },
    {
      "metadata": {
        "id": "MHrXIdzocxAb",
        "colab_type": "code",
        "outputId": "343e761b-d93a-4b87-9597-469a9d8be7e9",
        "colab": {
          "base_uri": "https://localhost:8080/",
          "height": 845
        }
      },
      "cell_type": "code",
      "source": [
        "decay = lrate/epochs \n",
        "sgd = SGD(lr=lrate, momentum=0.9, decay=decay, nesterov=False)\n",
        "model.compile(loss='categorical_crossentropy', optimizer=sgd, metrics=['accuracy']) \n",
        "print(model.summary()) \n"
      ],
      "execution_count": 0,
      "outputs": [
        {
          "output_type": "stream",
          "text": [
            "_________________________________________________________________\n",
            "Layer (type)                 Output Shape              Param #   \n",
            "=================================================================\n",
            "conv2d_1 (Conv2D)            (None, 32, 32, 32)        896       \n",
            "_________________________________________________________________\n",
            "dropout_1 (Dropout)          (None, 32, 32, 32)        0         \n",
            "_________________________________________________________________\n",
            "conv2d_2 (Conv2D)            (None, 32, 32, 32)        9248      \n",
            "_________________________________________________________________\n",
            "max_pooling2d_1 (MaxPooling2 (None, 32, 16, 16)        0         \n",
            "_________________________________________________________________\n",
            "conv2d_3 (Conv2D)            (None, 64, 16, 16)        18496     \n",
            "_________________________________________________________________\n",
            "dropout_2 (Dropout)          (None, 64, 16, 16)        0         \n",
            "_________________________________________________________________\n",
            "conv2d_4 (Conv2D)            (None, 64, 16, 16)        36928     \n",
            "_________________________________________________________________\n",
            "max_pooling2d_2 (MaxPooling2 (None, 64, 8, 8)          0         \n",
            "_________________________________________________________________\n",
            "conv2d_5 (Conv2D)            (None, 128, 8, 8)         73856     \n",
            "_________________________________________________________________\n",
            "dropout_3 (Dropout)          (None, 128, 8, 8)         0         \n",
            "_________________________________________________________________\n",
            "conv2d_6 (Conv2D)            (None, 128, 8, 8)         147584    \n",
            "_________________________________________________________________\n",
            "max_pooling2d_3 (MaxPooling2 (None, 128, 4, 4)         0         \n",
            "_________________________________________________________________\n",
            "flatten_1 (Flatten)          (None, 2048)              0         \n",
            "_________________________________________________________________\n",
            "dropout_4 (Dropout)          (None, 2048)              0         \n",
            "_________________________________________________________________\n",
            "dense_1 (Dense)              (None, 1024)              2098176   \n",
            "_________________________________________________________________\n",
            "dropout_5 (Dropout)          (None, 1024)              0         \n",
            "_________________________________________________________________\n",
            "dense_2 (Dense)              (None, 512)               524800    \n",
            "_________________________________________________________________\n",
            "dropout_6 (Dropout)          (None, 512)               0         \n",
            "_________________________________________________________________\n",
            "dense_3 (Dense)              (None, 10)                5130      \n",
            "=================================================================\n",
            "Total params: 2,915,114\n",
            "Trainable params: 2,915,114\n",
            "Non-trainable params: 0\n",
            "_________________________________________________________________\n",
            "None\n"
          ],
          "name": "stdout"
        }
      ]
    },
    {
      "metadata": {
        "id": "SYxLMDCBdErP",
        "colab_type": "code",
        "outputId": "84a20843-8b29-43ce-e280-4392354d0431",
        "colab": {
          "base_uri": "https://localhost:8080/",
          "height": 1133
        }
      },
      "cell_type": "code",
      "source": [
        "# Fit the model \n",
        "history = model.fit(X_train, y_train, validation_data=(X_test, y_test), epochs=epochs, batch_size=64) \n",
        "# Final evaluation of the model \n",
        "scores = model.evaluate(X_test, y_test, verbose=0) \n",
        "print(\"Accuracy: %.2f%%\" % (scores[1]*100))\n"
      ],
      "execution_count": 0,
      "outputs": [
        {
          "output_type": "stream",
          "text": [
            "Train on 50000 samples, validate on 10000 samples\n",
            "Epoch 1/30\n",
            "50000/50000 [==============================] - 22s 442us/step - loss: 1.6152 - acc: 0.4118 - val_loss: 1.2400 - val_acc: 0.5619\n",
            "Epoch 2/30\n",
            "50000/50000 [==============================] - 21s 411us/step - loss: 1.1879 - acc: 0.5743 - val_loss: 1.0436 - val_acc: 0.6384\n",
            "Epoch 3/30\n",
            "50000/50000 [==============================] - 20s 409us/step - loss: 1.0114 - acc: 0.6414 - val_loss: 0.9143 - val_acc: 0.6891\n",
            "Epoch 4/30\n",
            "50000/50000 [==============================] - 21s 410us/step - loss: 0.8900 - acc: 0.6861 - val_loss: 0.8922 - val_acc: 0.6968\n",
            "Epoch 5/30\n",
            "50000/50000 [==============================] - 20s 403us/step - loss: 0.8104 - acc: 0.7144 - val_loss: 0.7847 - val_acc: 0.7358\n",
            "Epoch 6/30\n",
            "50000/50000 [==============================] - 20s 400us/step - loss: 0.7348 - acc: 0.7407 - val_loss: 0.7436 - val_acc: 0.7456\n",
            "Epoch 7/30\n",
            "50000/50000 [==============================] - 21s 416us/step - loss: 0.6816 - acc: 0.7592 - val_loss: 0.7037 - val_acc: 0.7650\n",
            "Epoch 8/30\n",
            "50000/50000 [==============================] - 21s 411us/step - loss: 0.6346 - acc: 0.7763 - val_loss: 0.6988 - val_acc: 0.7629\n",
            "Epoch 9/30\n",
            "50000/50000 [==============================] - 21s 413us/step - loss: 0.5918 - acc: 0.7904 - val_loss: 0.6687 - val_acc: 0.7779\n",
            "Epoch 10/30\n",
            "50000/50000 [==============================] - 21s 413us/step - loss: 0.5539 - acc: 0.8050 - val_loss: 0.6383 - val_acc: 0.7856\n",
            "Epoch 11/30\n",
            "50000/50000 [==============================] - 21s 415us/step - loss: 0.5166 - acc: 0.8168 - val_loss: 0.6569 - val_acc: 0.7837\n",
            "Epoch 12/30\n",
            "50000/50000 [==============================] - 21s 412us/step - loss: 0.4825 - acc: 0.8293 - val_loss: 0.6297 - val_acc: 0.7970\n",
            "Epoch 13/30\n",
            "50000/50000 [==============================] - 21s 416us/step - loss: 0.4632 - acc: 0.8352 - val_loss: 0.6089 - val_acc: 0.7993\n",
            "Epoch 14/30\n",
            "50000/50000 [==============================] - 21s 419us/step - loss: 0.4402 - acc: 0.8414 - val_loss: 0.6260 - val_acc: 0.7940\n",
            "Epoch 15/30\n",
            "50000/50000 [==============================] - 21s 415us/step - loss: 0.4156 - acc: 0.8517 - val_loss: 0.6211 - val_acc: 0.8024\n",
            "Epoch 16/30\n",
            "50000/50000 [==============================] - 21s 412us/step - loss: 0.3858 - acc: 0.8626 - val_loss: 0.6127 - val_acc: 0.8058\n",
            "Epoch 17/30\n",
            "50000/50000 [==============================] - 20s 404us/step - loss: 0.3699 - acc: 0.8664 - val_loss: 0.6196 - val_acc: 0.8061\n",
            "Epoch 18/30\n",
            "50000/50000 [==============================] - 20s 409us/step - loss: 0.3543 - acc: 0.8717 - val_loss: 0.6231 - val_acc: 0.8044\n",
            "Epoch 19/30\n",
            "50000/50000 [==============================] - 21s 416us/step - loss: 0.3368 - acc: 0.8779 - val_loss: 0.6135 - val_acc: 0.8096\n",
            "Epoch 20/30\n",
            "50000/50000 [==============================] - 22s 435us/step - loss: 0.3198 - acc: 0.8839 - val_loss: 0.6155 - val_acc: 0.8104\n",
            "Epoch 21/30\n",
            "50000/50000 [==============================] - 21s 425us/step - loss: 0.3064 - acc: 0.8892 - val_loss: 0.6321 - val_acc: 0.8126\n",
            "Epoch 22/30\n",
            "50000/50000 [==============================] - 21s 426us/step - loss: 0.2902 - acc: 0.8951 - val_loss: 0.6122 - val_acc: 0.8179\n",
            "Epoch 23/30\n",
            "50000/50000 [==============================] - 21s 429us/step - loss: 0.2829 - acc: 0.8957 - val_loss: 0.6167 - val_acc: 0.8182\n",
            "Epoch 24/30\n",
            "50000/50000 [==============================] - 21s 423us/step - loss: 0.2714 - acc: 0.9012 - val_loss: 0.6558 - val_acc: 0.8097\n",
            "Epoch 25/30\n",
            "50000/50000 [==============================] - 21s 426us/step - loss: 0.2598 - acc: 0.9069 - val_loss: 0.6463 - val_acc: 0.8132\n",
            "Epoch 26/30\n",
            "50000/50000 [==============================] - 21s 425us/step - loss: 0.2451 - acc: 0.9120 - val_loss: 0.6375 - val_acc: 0.8178\n",
            "Epoch 27/30\n",
            "50000/50000 [==============================] - 21s 421us/step - loss: 0.2361 - acc: 0.9134 - val_loss: 0.6331 - val_acc: 0.8177\n",
            "Epoch 28/30\n",
            "50000/50000 [==============================] - 21s 412us/step - loss: 0.2313 - acc: 0.9152 - val_loss: 0.6507 - val_acc: 0.8184\n",
            "Epoch 29/30\n",
            "50000/50000 [==============================] - 21s 413us/step - loss: 0.2173 - acc: 0.9210 - val_loss: 0.6599 - val_acc: 0.8151\n",
            "Epoch 30/30\n",
            "50000/50000 [==============================] - 21s 424us/step - loss: 0.2162 - acc: 0.9227 - val_loss: 0.6551 - val_acc: 0.8150\n",
            "Accuracy: 81.50%\n"
          ],
          "name": "stdout"
        }
      ]
    },
    {
      "metadata": {
        "id": "w4DXaxX2dJGj",
        "colab_type": "code",
        "outputId": "1bf57660-538b-496d-adfb-efcc465ba1f0",
        "colab": {
          "base_uri": "https://localhost:8080/",
          "height": 735
        }
      },
      "cell_type": "code",
      "source": [
        "plt.plot(history.history['acc'])\n",
        "plt.plot(history.history['val_acc'])\n",
        "plt.title('model accuracy')\n",
        "plt.ylabel('accuracy')\n",
        "plt.xlabel('epoch')\n",
        "plt.legend(['train', 'test'], loc='upper left')\n",
        "plt.show()\n",
        "# summarize history for loss\n",
        "plt.plot(history.history['loss'])\n",
        "plt.plot(history.history['val_loss'])\n",
        "plt.title('model loss')\n",
        "plt.ylabel('loss')\n",
        "plt.xlabel('epoch')\n",
        "plt.legend(['train', 'test'], loc='upper left')\n",
        "plt.show()"
      ],
      "execution_count": 0,
      "outputs": [
        {
          "output_type": "display_data",
          "data": {
            "image/png": "[encoded data removed]",
            "text/plain": [
              "<Figure size 576x396 with 1 Axes>"
            ]
          },
          "metadata": {
            "tags": []
          }
        },
        {
          "output_type": "display_data",
          "data": {
            "image/png": "[encoded data removed]",
            "text/plain": [
              "<Figure size 576x396 with 1 Axes>"
            ]
          },
          "metadata": {
            "tags": []
          }
        }
      ]
    },
    {
      "metadata": {
        "id": "-YgxLXRXqQJk",
        "colab_type": "code",
        "colab": {}
      },
      "cell_type": "code",
      "source": [
        ""
      ],
      "execution_count": 0,
      "outputs": []
    }
  ]
}